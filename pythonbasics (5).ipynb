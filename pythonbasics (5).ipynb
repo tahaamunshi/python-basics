{
  "nbformat": 4,
  "nbformat_minor": 0,
  "metadata": {
    "colab": {
      "provenance": []
    },
    "kernelspec": {
      "name": "python3",
      "display_name": "Python 3"
    },
    "language_info": {
      "name": "python"
    }
  },
  "cells": [
    {
      "cell_type": "code",
      "execution_count": null,
      "metadata": {
        "id": "Q2XP5G0ymDpv"
      },
      "outputs": [],
      "source": []
    },
    {
      "cell_type": "markdown",
      "source": [
        " # Python Basics\n",
        "  \n",
        "\n",
        "\n",
        "\n"
      ],
      "metadata": {
        "id": "PcvtDOSRniIo"
      }
    },
    {
      "cell_type": "markdown",
      "source": [
        "1. What is Python and why is it popular?\n",
        "  - Python is a **highlevel**(i.e, Python is closer to human language and abstracted from how computers actually work (like 0s and 1s)). It is an **interpreted programming language**(i.e, Python doesn’t need to be compiled before it runs. It’s executed line-by-line by an interpreter.This makes it easy to test, debug, and write code quickly). It is known for its simplicity, readability, and versatility. It was created by* Guido van Rossum* and released in 1991.\n",
        "\n",
        "    **Reasons for it's popularity:**\n",
        "\n",
        "    a)Simple and Readable Syntax:\n",
        "\n",
        "    Easy to write and understand, even for beginners.\n",
        "\n",
        "    Syntax is close to English.\n",
        "\n",
        "    Ideal for those new to programming.\n",
        "\n",
        "    Requires fewer lines of code compared to other languages.\n",
        "\n",
        "    c)Versatile Applications:\n",
        "\n",
        "    Used in web development, data science, machine learning, AI, automation, scripting, and more.\n",
        "\n",
        "    d)Large Standard Library:\n",
        "\n",
        "    Comes with built-in modules for math, file handling, web services, databases, etc.\n",
        "\n",
        "    e)Rich Ecosystem of Libraries & Frameworks:\n",
        "\n",
        "    Examples: NumPy, Pandas, Matplotlib, TensorFlow, Django, Flask, etc.\n",
        "\n",
        "    f)Cross-Platform Compatibility:\n",
        "\n",
        "    Runs on Windows, Linux, macOS without modifying the code.\n",
        "\n",
        "    g)Massive Community Support:\n",
        "\n",
        "    Large developer community, active forums, free tutorials, and open-source projects.\n",
        "\n",
        "    h)Integrates Easily with Other Languages:\n",
        "\n",
        "    can be combined with C, C++, Java, and others.\n",
        "\n",
        "    i)Used by Top Companies:\n",
        "\n",
        "    Google, Netflix, Facebook, NASA, and many others use Python in production.\n",
        "\n",
        "    Supports Multiple Programming Paradigms\n",
        "\n",
        "    Functional, Object-Oriented, and Procedural programming styles.\n",
        "\n",
        "\n"
      ],
      "metadata": {
        "id": "jku43WIUoVAK"
      }
    },
    {
      "cell_type": "markdown",
      "source": [
        "2. What is an interpreter in python?\n",
        " - An interpreter in Python is a program that reads and executes Python code line by line. Unlike compiled languages (like C or Java), which are first converted into machine code using a compiler, Python uses an interpreter to directly execute the code. This makes development and testing faster, but sometimes a bit slower in performance compared to compiled languages.\n",
        "\n",
        "\n",
        "3. What are pre-defined keywords in Python?\n",
        "  - Keywords in Python are reserved words that have special meanings and serve specific purposes in the language syntax. Python keywords cannot be used as the names of variables, functions, and classes or any other identifier.\n",
        "  Let's categorize all keywords based on context and understand each with help of example.\n",
        "\n",
        "   Category                                   \n",
        "\n",
        "  Value Keywords :                         \tTrue, False, None\n",
        "\n",
        "  Operator Keywords:\tand, or, not, in, is\n",
        "\n",
        "  Control Flow Keywords:\tif, else, elif, for, while, break, continue, pass, try, except, finally, raise, assert\n",
        "\n",
        "  Function and Class keywords :\tdef, return, lambda, yield, class\n",
        "\n",
        "  Context Management keyword:\twith, as\n",
        "\n",
        "  Import and Module keyword: import, from, as\n",
        "\n",
        "  Scope and Namespace keyword:\tglobal, nonlocal\n",
        "\n",
        "   Async Programming keyword:\tasync, await\n"
      ],
      "metadata": {
        "id": "JX5_e86gtzhr"
      }
    },
    {
      "cell_type": "markdown",
      "source": [
        "4. Can keywords be used as variable names?\n",
        "\n",
        "  - No, Python does not allow keywords to be used as variable names.\n",
        "Using a keyword as a variable will cause a SyntaxError, because Python expects that keyword to perform its predefined function.\n",
        "5. What is mutability in Python?\n",
        "  - Mutability refers to whether the content of an object can be changed after it is created.\n",
        "    ✅ Mutable objects: Can be changed (e.g., list, dictionary, set).\n",
        "\n",
        "    ❌ Immutable objects: Cannot be changed (e.g., tuple, string, integer).\n",
        "6. Why are lists mutable, but tuples are immutable?\n",
        "\n",
        "  - This design in Python is intentional:\n",
        "\n",
        "    -Lists are mutable\n",
        "\n",
        "    Lists are used when you need to store and update collections of items.\n",
        "\n",
        "     Example use cases: dynamic data, appending/removing elements.\n",
        "\n",
        "    -Tuples are immutable\n",
        "\n",
        "     Tuples are used when you want to protect data from being changed.\n",
        "\n",
        "     They are faster and more memory-efficient than lists.\n",
        "\n",
        "     Example use cases: fixed data like coordinates, database keys, etc.\n",
        "\n",
        "     \"Mutability affects how Python stores and handles data in memory.”\n",
        "\n",
        "     What it means:\n",
        "\n",
        "     When you create a variable in Python, it gets stored in memory (RAM).\n",
        "\n",
        "     If something is mutable (like a list), Python keeps a reference to that memory location because its content might change later.\n",
        "\n",
        "     If something is immutable (like a tuple), Python knows it will never change, so it can safely optimize how it’s stored (e.g., reuse memory, hash it, etc.).\n",
        "\n",
        "7. What is the difference between == and is in Python?\n",
        "  - == checks if two values are equal.\n",
        "\n",
        "  - is checks if two variables point to the same object in memory.\n",
        "\n",
        "      Example: a == b could be True if values match, but a is b may be False if they are two different objects.\n",
        "\n",
        "      \n",
        "\n",
        "    \n"
      ],
      "metadata": {
        "id": "7aRDTYoitCLT"
      }
    },
    {
      "cell_type": "markdown",
      "source": [
        " 8. What are logical Operators in Python?\n",
        "   - and : Returns True only if both conditions are true.\n",
        "\n",
        "    - or : Returns True if at least one condition is true.\n",
        "\n",
        "    - not : Reverses the condition (True becomes False and vice versa).\n",
        "9. What is type Casting in Python?\n",
        "  - Type casting is the process of converting one data type to another, e.g., from string to integer or integer to float.\n",
        "\n",
        "     It’s useful when you’re working with data that comes in as strings (like user input or file data) and need it as numbers.\n",
        "\n",
        "10. What is the difference between implicit vs. explicit Type Casting?\n",
        "   - Implicit casting: Python automatically converts one type to another (e.g., int to float during calculations).\n",
        "\n",
        "  - Explicit casting: You manually convert the type using functions like int(), float(), or str().\n",
        "\n",
        "11. What is the purpose of Conditional Statements?\n",
        "\n",
        "   - Conditional statements allow a program to make decisions.\n",
        "\n",
        "     Python executes different blocks of code depending on whether conditions are True or False.\n",
        "\n",
        "12. How does the elif statement work?\n",
        "  - The “elif” keyword in Python, stands for “else if”. It can be used in conditional statements to check for multiple conditions. For example, if the first condition is false, it moves on to the next “elif” statement to check if that condition is true.\n",
        "\n",
        "13. What is the difference between for and while Loops?\n",
        "   - for loop is used when the number of iterations is known or fixed.\n",
        "\n",
        "    - while loop is used when the number of iterations is unknown and depends on a condition.\n",
        "\n",
        "    - for loop works well with sequences like lists, strings, or ranges.\n",
        "\n",
        "    - while loop runs as long as the condition remains True.\n",
        "\n",
        "    - for loop is generally shorter and cleaner for definite loops.\n",
        "\n",
        "    - while loop provides more flexibility for indefinite or condition-based loops.\n",
        "\n",
        "    - for loop stops after iterating through all items in the sequence.\n",
        "\n",
        "    - while loop stops only when the condition becomes False.\n",
        "\n",
        "    - for loop used  when you know how many times to repeat.\n",
        "\n",
        "    - while loop used when you want to wait for a specific event or condition.\n",
        "\n",
        "14. Describe a scenario when while loop  is better than  for loop?\n",
        "  - Use a while loop when the number of repetitions is unknown and depends on a condition being met.\n",
        "\n",
        "    - Ideal for situations like:\n",
        "\n",
        "        Waiting for user input\n",
        "\n",
        "        Monitoring sensor data\n",
        "\n",
        "        Repeating a process until an external condition changes\n",
        "\n",
        "        Example scenario:\n",
        "\n",
        "       Keep asking the user for input until they type \"exit\".Here, you don’t know how many times the loop will run — that’s why while is more suitable than for.\n",
        "\n",
        "\n",
        "\n",
        "\n",
        "\n",
        "\n",
        "\n",
        "\n",
        "\n",
        "\n",
        "\n",
        "\n",
        "\n",
        "\n",
        "\n",
        "\n",
        "\n",
        "\n",
        "    \n",
        "\n"
      ],
      "metadata": {
        "id": "S18oTyWxx112"
      }
    },
    {
      "cell_type": "markdown",
      "source": [
        "# Practical Questions:\n"
      ],
      "metadata": {
        "id": "5iTuu96M8URt"
      }
    },
    {
      "cell_type": "code",
      "source": [
        "#1.Write a program to print \"Hello, World!\"\n",
        "print(\"Hello,World!\")\n",
        "\n"
      ],
      "metadata": {
        "colab": {
          "base_uri": "https://localhost:8080/"
        },
        "id": "COb9ibOg8d8W",
        "outputId": "423ba722-d906-45cd-efc9-bc7b8b958a32"
      },
      "execution_count": 1,
      "outputs": [
        {
          "output_type": "stream",
          "name": "stdout",
          "text": [
            "Hello,World!\n"
          ]
        }
      ]
    },
    {
      "cell_type": "code",
      "source": [
        "#2.Write a python program that displays your name and age .\n",
        "name=input(\"enter your name:\")\n",
        "age=input(\"enter your age:\")\n",
        "print(\"name:\", name)\n",
        "print(\"age:\",age)"
      ],
      "metadata": {
        "colab": {
          "base_uri": "https://localhost:8080/"
        },
        "id": "5j7biq2C8yVi",
        "outputId": "27747b76-12ac-453a-9f75-8336b331d6f9"
      },
      "execution_count": 2,
      "outputs": [
        {
          "output_type": "stream",
          "name": "stdout",
          "text": [
            "enter your name:Taha\n",
            "enter your age:23\n",
            "name: Taha\n",
            "age: 23\n"
          ]
        }
      ]
    },
    {
      "cell_type": "code",
      "source": [
        "#3.Write code to print all the pre-defined keywords in python using the keyword library.\n",
        "import keyword\n",
        "print(\"python keywords:\")\n",
        "print(keyword.kwlist)\n"
      ],
      "metadata": {
        "colab": {
          "base_uri": "https://localhost:8080/"
        },
        "id": "gfWIBBud9QZL",
        "outputId": "affde36f-6fc2-4040-9f1d-0011654d26f5"
      },
      "execution_count": 3,
      "outputs": [
        {
          "output_type": "stream",
          "name": "stdout",
          "text": [
            "python keywords:\n",
            "['False', 'None', 'True', 'and', 'as', 'assert', 'async', 'await', 'break', 'class', 'continue', 'def', 'del', 'elif', 'else', 'except', 'finally', 'for', 'from', 'global', 'if', 'import', 'in', 'is', 'lambda', 'nonlocal', 'not', 'or', 'pass', 'raise', 'return', 'try', 'while', 'with', 'yield']\n"
          ]
        }
      ]
    },
    {
      "cell_type": "code",
      "source": [
        "#4.Write a program that checks if a given word is a python keyword\n",
        "import keyword\n",
        "word=input(\"enter a word:\")\n",
        "if keyword.iskeyword(word):\n",
        "  print(word,\"is a keyword\")\n",
        "else:\n",
        "  print(word,\"not a keyword\")"
      ],
      "metadata": {
        "colab": {
          "base_uri": "https://localhost:8080/"
        },
        "id": "5KI-u5tK_gKV",
        "outputId": "827a23dd-6a42-4f6d-cdf3-ce2d6f8a0c35"
      },
      "execution_count": 5,
      "outputs": [
        {
          "output_type": "stream",
          "name": "stdout",
          "text": [
            "enter a word:else\n",
            "else is a keyword\n"
          ]
        }
      ]
    },
    {
      "cell_type": "code",
      "source": [
        "#5.Create a list and tuple in python and demonastrate how attempting to change an element works differently for each\n",
        "#list mutable:\n",
        "my_list=[1,2,3]\n",
        "my_list[0]=100\n",
        "print(\"modified list\",my_list) #works\n",
        "#tuple(immutable):\n",
        "my_tuple=(1,2,3)\n",
        "try:\n",
        "  my_tuple[0]=100  #error\n",
        "except TypeError as e:\n",
        "  print(\"Error modifying tuple:\",e)\n"
      ],
      "metadata": {
        "colab": {
          "base_uri": "https://localhost:8080/"
        },
        "id": "ochNWQgkAOFv",
        "outputId": "e7aebb07-049f-42fe-9dbf-788504aaa3ca"
      },
      "execution_count": 6,
      "outputs": [
        {
          "output_type": "stream",
          "name": "stdout",
          "text": [
            "modified list [100, 2, 3]\n",
            "Error modifying tuple: 'tuple' object does not support item assignment\n"
          ]
        }
      ]
    },
    {
      "cell_type": "code",
      "source": [
        "#6. Write a function to demonastrate the behaviour of mutable and immutable arguments?\n",
        "def modify_data(num,data_list):\n",
        "  num+=10\n",
        "  data_list.append(10)\n",
        "  print(\"inside function:\",num,data_list)\n",
        "a=5\n",
        "b=[1,2,3]\n",
        "modify_data(a,b)\n",
        "print(\"outside function:\",a,b)\n",
        "\n"
      ],
      "metadata": {
        "colab": {
          "base_uri": "https://localhost:8080/"
        },
        "id": "deXFvQbXCEeX",
        "outputId": "0ce1f8ed-c6d2-4b55-de1c-ef62bf0173cd"
      },
      "execution_count": 2,
      "outputs": [
        {
          "output_type": "stream",
          "name": "stdout",
          "text": [
            "inside function: 15 [1, 2, 3, 10]\n",
            "outside function: 5 [1, 2, 3, 10]\n"
          ]
        }
      ]
    },
    {
      "cell_type": "code",
      "source": [
        "#7.Write a program that performs basic arithmetic operations on two user-input numbers?\n",
        "a=int(input(\"enter the first number:\"))\n",
        "b=int(input(\"enter the second number:\"))\n",
        "print(\"sum:\",a+b)\n",
        "print(\"Difference:\",a-b)\n",
        "print(\"product:\",a*b)\n",
        "print(\"Quotient:\",a/b)\n",
        "print(\"Modulus:\",a%b)\n"
      ],
      "metadata": {
        "colab": {
          "base_uri": "https://localhost:8080/"
        },
        "id": "6psdURb0DQgz",
        "outputId": "574d0009-458c-40c1-eadc-27cc8065b5b1"
      },
      "execution_count": 7,
      "outputs": [
        {
          "output_type": "stream",
          "name": "stdout",
          "text": [
            "enter the first number:10\n",
            "enter the second number:5\n",
            "sum: 15\n",
            "Difference: 5\n",
            "product: 50\n",
            "Quotient: 2.0\n",
            "Modulus: 0\n"
          ]
        }
      ]
    },
    {
      "cell_type": "code",
      "source": [
        "#8.Write a program to demonestrate the use of logical operators?\n",
        "x=int(input(\"enter a number:\"))\n",
        "if x>0 and x<100:\n",
        "  print(\"this is my desired number\")\n",
        "if x<0 or x>100:\n",
        "  print(\"this is not my desired number\")\n",
        "if not x==50:\n",
        "  print(\"number is not 50\")\n",
        "\n"
      ],
      "metadata": {
        "colab": {
          "base_uri": "https://localhost:8080/"
        },
        "id": "KfUTH4VadfIL",
        "outputId": "ab3e0d0f-d9a2-4bbc-85b5-8ae59fcda9e1"
      },
      "execution_count": 8,
      "outputs": [
        {
          "output_type": "stream",
          "name": "stdout",
          "text": [
            "enter a number:101\n",
            "this is not my desired number\n",
            "number is not 50\n"
          ]
        }
      ]
    },
    {
      "cell_type": "code",
      "source": [
        "#9.Write a python program to convert user input from string to integer ,float and boolean types?\n",
        "num_str=input(\"enter a number:\")\n",
        "num_int=int(num_str)\n",
        "num_float=float(num_str)\n",
        "num_bool=bool(num_str)\n",
        "print(\"integer:\",num_int)\n",
        "print(\"float:\",num_float)\n",
        "print(\"boolean:\",num_bool)\n"
      ],
      "metadata": {
        "colab": {
          "base_uri": "https://localhost:8080/"
        },
        "id": "Q7fM_OXvfni0",
        "outputId": "a48ad4e0-885f-43ad-9247-2d007068084b"
      },
      "execution_count": 29,
      "outputs": [
        {
          "output_type": "stream",
          "name": "stdout",
          "text": [
            "enter a number:56\n",
            "integer: 56\n",
            "float: 56.0\n",
            "boolean: True\n"
          ]
        }
      ]
    },
    {
      "cell_type": "code",
      "source": [
        "#10.Write a code to demonstrate type casting with list elements?\n",
        "string_list=[\"1\",\"2\",\"3\"]\n",
        "int_list=[int(x)for x in string_list]\n",
        "print(\"converted list:\",int_list)\n"
      ],
      "metadata": {
        "colab": {
          "base_uri": "https://localhost:8080/"
        },
        "id": "G7SNoWW7gGy2",
        "outputId": "8ddc9c2c-9a16-4d67-e4de-2853810eedaa"
      },
      "execution_count": 30,
      "outputs": [
        {
          "output_type": "stream",
          "name": "stdout",
          "text": [
            "converted list: [1, 2, 3]\n"
          ]
        }
      ]
    },
    {
      "cell_type": "code",
      "source": [
        "#11.Write a program that checks if a number is positive,negative or zero?\n",
        "num=int(input(\"enter the number:\"))\n",
        "if num>0:\n",
        "  print(\"positive\")\n",
        "elif num<0:\n",
        "  print(\"negative\")\n",
        "else:\n",
        "  print(\"zero\")"
      ],
      "metadata": {
        "colab": {
          "base_uri": "https://localhost:8080/"
        },
        "id": "vmaZr36lgV9w",
        "outputId": "d1490bc0-bfb7-451f-c238-e07262389e4a"
      },
      "execution_count": 11,
      "outputs": [
        {
          "output_type": "stream",
          "name": "stdout",
          "text": [
            "enter the number:-56\n",
            "negative\n"
          ]
        }
      ]
    },
    {
      "cell_type": "code",
      "source": [
        "#12.Write a for loop to print numbers from 1 to 10?\n",
        "for i in range(1,11):\n",
        "  print(i,end=\" \")\n",
        "\n",
        "\n",
        "\n",
        "\n"
      ],
      "metadata": {
        "colab": {
          "base_uri": "https://localhost:8080/"
        },
        "id": "vvsZmtVngiEA",
        "outputId": "895599dc-d6bf-4471-a1d6-a9058fbc9f5b"
      },
      "execution_count": 16,
      "outputs": [
        {
          "output_type": "stream",
          "name": "stdout",
          "text": [
            "1 2 3 4 5 6 7 8 9 10 "
          ]
        }
      ]
    },
    {
      "cell_type": "code",
      "source": [
        "#13.Write a python program to find the sum of all even numbers between 1 and 50?\n",
        "i=2\n",
        "sum=0\n",
        "while i<50:\n",
        "  sum+=i\n",
        "  i+=2\n",
        "print(\"sum of all numbers between 1 and 50 :\",sum)"
      ],
      "metadata": {
        "colab": {
          "base_uri": "https://localhost:8080/"
        },
        "id": "hEpvVGJLgtY_",
        "outputId": "5daff1b7-ae4f-4a9c-ce23-c45152a2557d"
      },
      "execution_count": 18,
      "outputs": [
        {
          "output_type": "stream",
          "name": "stdout",
          "text": [
            "sum of all numbers between 1 and 50 : 600\n"
          ]
        }
      ]
    },
    {
      "cell_type": "code",
      "source": [
        "#14.Write a program to reverse a string?\n",
        "word=\"tahashowkat\"\n",
        "for i in range(len(word)-1,-1,-1):\n",
        "  print(word[i],end=\" \")"
      ],
      "metadata": {
        "colab": {
          "base_uri": "https://localhost:8080/"
        },
        "id": "PqcorUNPg5lp",
        "outputId": "0f8b55b1-7b73-4ee0-9c60-49fc46aada2e"
      },
      "execution_count": 37,
      "outputs": [
        {
          "output_type": "stream",
          "name": "stdout",
          "text": [
            "t a k w o h s a h a t "
          ]
        }
      ]
    },
    {
      "cell_type": "code",
      "source": [
        "#15.Write a python program to calculate the factorial of a number provided by the user using a while loop?\n",
        "n=int(input(\"enter the number:\"))\n",
        "i=1\n",
        "fact=1\n",
        "while  i<=n:\n",
        "  fact*=i\n",
        "  i+=1\n",
        "print('Factorial of n is',fact)"
      ],
      "metadata": {
        "colab": {
          "base_uri": "https://localhost:8080/"
        },
        "id": "OfkPgbXvj8MU",
        "outputId": "273880f4-96ee-4015-c54e-76992b9a7cfb"
      },
      "execution_count": 39,
      "outputs": [
        {
          "output_type": "stream",
          "name": "stdout",
          "text": [
            "enter the number:10\n",
            "Factorial of n is 3628800\n"
          ]
        }
      ]
    },
    {
      "cell_type": "code",
      "source": [],
      "metadata": {
        "id": "sAEZk8JAnSGG"
      },
      "execution_count": null,
      "outputs": []
    }
  ]
}